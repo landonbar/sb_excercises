{
 "cells": [
  {
   "cell_type": "markdown",
   "metadata": {},
   "source": [
    "# XML example and exercise\n",
    "****\n",
    "+ study examples of accessing nodes in XML tree structure  \n",
    "+ work on exercise to be completed and submitted\n",
    "****\n",
    "+ reference: https://docs.python.org/2.7/library/xml.etree.elementtree.html\n",
    "+ data source: http://www.dbis.informatik.uni-goettingen.de/Mondial\n",
    "****"
   ]
  },
  {
   "cell_type": "code",
   "execution_count": 8,
   "metadata": {
    "collapsed": true
   },
   "outputs": [],
   "source": [
    "from xml.etree import ElementTree as ET"
   ]
  },
  {
   "cell_type": "markdown",
   "metadata": {},
   "source": [
    "## XML example\n",
    "\n",
    "+ for details about tree traversal and iterators, see https://docs.python.org/2.7/library/xml.etree.elementtree.html"
   ]
  },
  {
   "cell_type": "code",
   "execution_count": 9,
   "metadata": {
    "collapsed": true
   },
   "outputs": [],
   "source": [
    "document_tree = ET.parse( './data/mondial_database_less.xml' )"
   ]
  },
  {
   "cell_type": "code",
   "execution_count": 13,
   "metadata": {
    "collapsed": false
   },
   "outputs": [
    {
     "name": "stdout",
     "output_type": "stream",
     "text": [
      "Albania\n",
      "Greece\n",
      "Macedonia\n",
      "Serbia\n",
      "Montenegro\n",
      "Kosovo\n",
      "Andorra\n"
     ]
    }
   ],
   "source": [
    "# print names of all countries\n",
    "for child in document_tree.getroot():\n",
    "     print(child.find('name').text)"
   ]
  },
  {
   "cell_type": "code",
   "execution_count": 15,
   "metadata": {
    "collapsed": false
   },
   "outputs": [
    {
     "name": "stdout",
     "output_type": "stream",
     "text": [
      "* Albania:\n",
      "Tirana, Shkodër, Durrës, Vlorë, Elbasan, Korçë\n",
      "* Greece:\n",
      "Komotini, Kavala, Athina, Peiraias, Peristeri, Acharnes, Patra, Kozani, Kerkyra, Ioannina, Thessaloniki, Iraklio, Chania, Ermoupoli, Rhodes, Tripoli, Lamia, Chalkida, Larissa, Volos, Mytilini, Karyes\n",
      "* Macedonia:\n",
      "Skopje, Kumanovo\n",
      "* Serbia:\n",
      "Beograd, Novi Sad, Niš\n",
      "* Montenegro:\n",
      "Podgorica\n",
      "* Kosovo:\n",
      "Prishtine\n",
      "* Andorra:\n",
      "Andorra la Vella\n"
     ]
    }
   ],
   "source": [
    "# print names of all countries and their cities\n",
    "for element in document_tree.iterfind('country'):\n",
    "    print('* ' + element.find('name').text + ':',)\n",
    "    capitals_string = ''\n",
    "    for subelement in element.getiterator('city'):\n",
    "        capitals_string += subelement.find('name').text + ', '\n",
    "    print(capitals_string[:-2])"
   ]
  },
  {
   "cell_type": "markdown",
   "metadata": {},
   "source": [
    "****\n",
    "## XML exercise\n",
    "\n",
    "Using data in 'data/mondial_database.xml', the examples above, and refering to https://docs.python.org/2.7/library/xml.etree.elementtree.html, find\n",
    "\n",
    "1. 10 countries with the lowest infant mortality rates\n",
    "2. 10 cities with the largest population\n",
    "3. 10 ethnic groups with the largest overall populations (sum of best/latest estimates over all countries)\n",
    "4. name and country of a) longest river, b) largest lake and c) airport at highest elevation"
   ]
  },
  {
   "cell_type": "code",
   "execution_count": 6,
   "metadata": {
    "collapsed": false
   },
   "outputs": [],
   "source": [
    "document = ET.parse( './data/mondial_database.xml' )"
   ]
  },
  {
   "cell_type": "markdown",
   "metadata": {},
   "source": [
    "## Create Dataframe from Elements"
   ]
  },
  {
   "cell_type": "code",
   "execution_count": 64,
   "metadata": {
    "collapsed": false
   },
   "outputs": [],
   "source": [
    "import pandas as pd\n",
    "df = pd.DataFrame(columns=('name','infant_mortality'))\n",
    "root= document.getroot()\n",
    "\n",
    "#for element in document_tree.iterfind('country'):\n",
    "for i in range(0,len(root)):\n",
    "    element=root[i]\n",
    "    if(element.tag=='country'):\n",
    "        #obj = root[i] #.getchildren()[i].getchildren()\n",
    "        #print(element)\n",
    "        #print(element.find('infant_mortality'))\n",
    "        if (element.find('infant_mortality')!=None):\n",
    "            row = dict(zip(['name','infant_mortality'], [element.find('name').text,  float(element.find('infant_mortality').text) ]))\n",
    "            row_s = pd.Series(row)\n",
    "            row_s.name = i\n",
    "            df = df.append(row_s)\n"
   ]
  },
  {
   "cell_type": "markdown",
   "metadata": {},
   "source": [
    "## Ten countries lowest infant mortality rates"
   ]
  },
  {
   "cell_type": "code",
   "execution_count": 65,
   "metadata": {
    "collapsed": false
   },
   "outputs": [
    {
     "data": {
      "text/html": [
       "<div>\n",
       "<table border=\"1\" class=\"dataframe\">\n",
       "  <thead>\n",
       "    <tr style=\"text-align: right;\">\n",
       "      <th></th>\n",
       "      <th>name</th>\n",
       "      <th>infant_mortality</th>\n",
       "    </tr>\n",
       "  </thead>\n",
       "  <tbody>\n",
       "    <tr>\n",
       "      <th>38</th>\n",
       "      <td>Monaco</td>\n",
       "      <td>1.81</td>\n",
       "    </tr>\n",
       "    <tr>\n",
       "      <th>98</th>\n",
       "      <td>Japan</td>\n",
       "      <td>2.13</td>\n",
       "    </tr>\n",
       "    <tr>\n",
       "      <th>117</th>\n",
       "      <td>Bermuda</td>\n",
       "      <td>2.48</td>\n",
       "    </tr>\n",
       "    <tr>\n",
       "      <th>36</th>\n",
       "      <td>Norway</td>\n",
       "      <td>2.48</td>\n",
       "    </tr>\n",
       "    <tr>\n",
       "      <th>106</th>\n",
       "      <td>Singapore</td>\n",
       "      <td>2.53</td>\n",
       "    </tr>\n",
       "    <tr>\n",
       "      <th>37</th>\n",
       "      <td>Sweden</td>\n",
       "      <td>2.60</td>\n",
       "    </tr>\n",
       "    <tr>\n",
       "      <th>10</th>\n",
       "      <td>Czech Republic</td>\n",
       "      <td>2.63</td>\n",
       "    </tr>\n",
       "    <tr>\n",
       "      <th>78</th>\n",
       "      <td>Hong Kong</td>\n",
       "      <td>2.73</td>\n",
       "    </tr>\n",
       "    <tr>\n",
       "      <th>79</th>\n",
       "      <td>Macao</td>\n",
       "      <td>3.13</td>\n",
       "    </tr>\n",
       "    <tr>\n",
       "      <th>44</th>\n",
       "      <td>Iceland</td>\n",
       "      <td>3.15</td>\n",
       "    </tr>\n",
       "  </tbody>\n",
       "</table>\n",
       "</div>"
      ],
      "text/plain": [
       "               name  infant_mortality\n",
       "38           Monaco              1.81\n",
       "98            Japan              2.13\n",
       "117         Bermuda              2.48\n",
       "36           Norway              2.48\n",
       "106       Singapore              2.53\n",
       "37           Sweden              2.60\n",
       "10   Czech Republic              2.63\n",
       "78        Hong Kong              2.73\n",
       "79            Macao              3.13\n",
       "44          Iceland              3.15"
      ]
     },
     "execution_count": 65,
     "metadata": {},
     "output_type": "execute_result"
    }
   ],
   "source": [
    "df.sort_values(by='infant_mortality',ascending=True).head(10)"
   ]
  },
  {
   "cell_type": "markdown",
   "metadata": {},
   "source": [
    "## Create list of city Populations for the most recent measured date"
   ]
  },
  {
   "cell_type": "code",
   "execution_count": 92,
   "metadata": {
    "collapsed": false
   },
   "outputs": [],
   "source": [
    "cities=[];\n",
    "for element in document.iterfind('country'):\n",
    "    for subelement in element.getiterator('city'):\n",
    "        name = subelement.find('name').text\n",
    "        maxYear=0\n",
    "        maxPop=0\n",
    "        for elePop in subelement.getiterator('population'):\n",
    "            year = int(elePop.attrib['year'])\n",
    "            pop = int(elePop.text)\n",
    "            if (year>maxYear): \n",
    "                maxPop=pop\n",
    "                maxYear=year\n",
    "        cities.append({'city':name, 'year':maxYear, 'pop': maxPop })\n",
    "        \n",
    "cities = sorted(cities, key=lambda k: k['pop'], reverse=True)    "
   ]
  },
  {
   "cell_type": "markdown",
   "metadata": {},
   "source": [
    "## Display Top 10 cities by population"
   ]
  },
  {
   "cell_type": "code",
   "execution_count": 94,
   "metadata": {
    "collapsed": false
   },
   "outputs": [
    {
     "data": {
      "text/plain": [
       "[{'city': 'Shanghai', 'pop': 22315474, 'year': 2010},\n",
       " {'city': 'Istanbul', 'pop': 13710512, 'year': 2012},\n",
       " {'city': 'Mumbai', 'pop': 12442373, 'year': 2011},\n",
       " {'city': 'Moskva', 'pop': 11979529, 'year': 2013},\n",
       " {'city': 'Beijing', 'pop': 11716620, 'year': 2010},\n",
       " {'city': 'São Paulo', 'pop': 11152344, 'year': 2010},\n",
       " {'city': 'Tianjin', 'pop': 11090314, 'year': 2010},\n",
       " {'city': 'Guangzhou', 'pop': 11071424, 'year': 2010},\n",
       " {'city': 'Delhi', 'pop': 11034555, 'year': 2011},\n",
       " {'city': 'Shenzhen', 'pop': 10358381, 'year': 2010}]"
      ]
     },
     "execution_count": 94,
     "metadata": {},
     "output_type": "execute_result"
    }
   ],
   "source": [
    "cities[0:10]"
   ]
  },
  {
   "cell_type": "markdown",
   "metadata": {},
   "source": [
    "## Ethinc Groups"
   ]
  },
  {
   "cell_type": "code",
   "execution_count": 108,
   "metadata": {
    "collapsed": false
   },
   "outputs": [],
   "source": [
    "\n",
    "countryPop=[];\n",
    "eg={}\n",
    "for element in document.iterfind('country'):\n",
    "    name = element.find('name').text\n",
    "    maxYear=0\n",
    "    maxPop=0\n",
    "    for elePop in element.findall('population'):\n",
    "        year = int(elePop.attrib['year'])\n",
    "        pop = int(elePop.text)\n",
    "        if (year>maxYear): \n",
    "            maxPop=pop\n",
    "            maxYear=year\n",
    "    \n",
    "    for elePop in element.findall('ethnicgroup'):\n",
    "        pct = float(elePop.attrib['percentage'])\n",
    "        egName = elePop.text\n",
    "        pop = pct*maxPop\n",
    "        if (egName not in eg): \n",
    "            eg[egName]=0;\n",
    "        #print(egName)\n",
    "        eg[egName]+=pop;\n",
    "    \n",
    "    countryPop.append({'country':name, 'year':maxYear, 'pop': maxPop })\n",
    "\n",
    "egList=[];\n",
    "for k in eg:\n",
    "    egList.append({'ethnicgroup':k, 'population':eg[k]})\n",
    "    \n",
    "        \n",
    "egList = sorted(egList, key=lambda k: k['population'], reverse=True) "
   ]
  },
  {
   "cell_type": "markdown",
   "metadata": {},
   "source": [
    "## Top 10 Ethnic Groups by Population"
   ]
  },
  {
   "cell_type": "code",
   "execution_count": 109,
   "metadata": {
    "collapsed": false
   },
   "outputs": [
    {
     "data": {
      "text/plain": [
       "[{'ethnicgroup': 'Han Chinese', 'population': 124505880000.0},\n",
       " {'ethnicgroup': 'Indo-Aryan', 'population': 87181558344.0},\n",
       " {'ethnicgroup': 'European', 'population': 49487221971.96},\n",
       " {'ethnicgroup': 'African', 'population': 31832512036.9},\n",
       " {'ethnicgroup': 'Dravidian', 'population': 30271374425.0},\n",
       " {'ethnicgroup': 'Mestizo', 'population': 15773435493.7},\n",
       " {'ethnicgroup': 'Bengali', 'population': 14677691672.0},\n",
       " {'ethnicgroup': 'Russian', 'population': 13185699607.699999},\n",
       " {'ethnicgroup': 'Japanese', 'population': 12653421200.0},\n",
       " {'ethnicgroup': 'Malay', 'population': 12199355037.4}]"
      ]
     },
     "execution_count": 109,
     "metadata": {},
     "output_type": "execute_result"
    }
   ],
   "source": [
    "egList[0:10]"
   ]
  },
  {
   "cell_type": "markdown",
   "metadata": {},
   "source": [
    "## Create country code lookup table"
   ]
  },
  {
   "cell_type": "code",
   "execution_count": 138,
   "metadata": {
    "collapsed": false
   },
   "outputs": [],
   "source": [
    "countryLookup={}\n",
    "for element in document.iterfind('country'):\n",
    "    #print (element.attrib['car_code'])\n",
    "    #print (element.find('name').text)\n",
    "    countryLookup[element.attrib['car_code']]=element.find('name').text\n",
    "#countryLookup"
   ]
  },
  {
   "cell_type": "markdown",
   "metadata": {},
   "source": [
    "## Find Longest River"
   ]
  },
  {
   "cell_type": "code",
   "execution_count": 149,
   "metadata": {
    "collapsed": false
   },
   "outputs": [
    {
     "name": "stdout",
     "output_type": "stream",
     "text": [
      "The longest river is the Amazonas which is 6448.0km long. It is in Colombia, Brazil, Peru.\n"
     ]
    }
   ],
   "source": [
    "riverCode=''\n",
    "lakeCode=''\n",
    "airportCode=''\n",
    "longestRiver=''\n",
    "largestLake=''\n",
    "highestAirport=''\n",
    "maxLength=0\n",
    "maxArea=0;\n",
    "maxElevation=0\n",
    "for element in document.iterfind('river'):\n",
    "    \n",
    "    if (element.find('length')!=None): \n",
    "        length=float(element.find('length').text)\n",
    "        if (length>maxLength):\n",
    "            maxLength=length\n",
    "            longestRiver=element.find('name').text\n",
    "            riverCode=element.attrib['country']\n",
    "\n",
    "riverCountries =''           \n",
    "for k in riverCode.split():\n",
    "    riverCountries+=countryLookup[k]+', '\n",
    "print ('The longest river is the ' + str(longestRiver) + ' which is ' + str(maxLength) + 'km long. It is in ' + riverCountries[:-2] +'.')\n",
    "   \n",
    "    \n",
    "    \n",
    "\n",
    "#r=document.find('river')\n",
    "#r=r.find('length').text\n",
    "#r=r.find('name').text\n",
    "#r=r.find('area').text\n",
    "#r=r.find('elevation').text\n",
    "#r=document.find('lake')\n",
    "#print(r.attrib['country'])\n",
    "#for child in r:\n",
    "#    print(child.tag)\n",
    "#    print(child.attrib)\n",
    "#    print(child.text)\n",
    "\n",
    "    "
   ]
  },
  {
   "cell_type": "code",
   "execution_count": 151,
   "metadata": {
    "collapsed": false
   },
   "outputs": [
    {
     "name": "stdout",
     "output_type": "stream",
     "text": [
      "The largest lake is the Caspian Sea which is 386400.0km^2. It is in Russia, Azerbaijan, Kazakhstan, Iran, Turkmenistan.\n"
     ]
    }
   ],
   "source": [
    "for element in document.iterfind('lake'):\n",
    "    \n",
    "    if (element.find('area')!=None): \n",
    "        area=float(element.find('area').text)\n",
    "        if (area>maxArea):\n",
    "            maxArea=area\n",
    "            largestLake=element.find('name').text\n",
    "            lakeCode=element.attrib['country']\n",
    "\n",
    "lakeCountries =''           \n",
    "for k in lakeCode.split():\n",
    "    lakeCountries+=countryLookup[k]+', '\n",
    "print ('The largest lake is the ' + str(largestLake) + ' which is ' + str(maxArea) + 'km^2. It is in ' + lakeCountries[:-2] +'.')\n",
    "   \n",
    " "
   ]
  },
  {
   "cell_type": "code",
   "execution_count": 160,
   "metadata": {
    "collapsed": false
   },
   "outputs": [
    {
     "name": "stdout",
     "output_type": "stream",
     "text": [
      "The highest airport is El Alto Intl which is 4063.0m high. It is in Bolivia.\n"
     ]
    }
   ],
   "source": [
    "for element in document.iterfind('airport'):\n",
    "    \n",
    "    if (element.find('elevation')!=None): \n",
    "        #print(element.find('elevation'))\n",
    "        if (element.find('elevation').text!=None):\n",
    "            elevation=float(element.find('elevation').text)\n",
    "            if (elevation>maxElevation):\n",
    "                maxElevation=elevation\n",
    "                highestAirport=element.find('name').text\n",
    "                airportCode=element.attrib['country']\n",
    "\n",
    "airportCountries =''           \n",
    "for k in airportCode.split():\n",
    "    airportCountries+=countryLookup[k]+', '\n",
    "print ('The highest airport is ' + str(highestAirport) + ' which is ' + str(maxElevation) + 'm high. It is in ' + airportCountries[:-2] +'.')\n",
    "   "
   ]
  },
  {
   "cell_type": "code",
   "execution_count": null,
   "metadata": {
    "collapsed": true
   },
   "outputs": [],
   "source": []
  },
  {
   "cell_type": "code",
   "execution_count": null,
   "metadata": {
    "collapsed": true
   },
   "outputs": [],
   "source": []
  }
 ],
 "metadata": {
  "kernelspec": {
   "display_name": "Python 3",
   "language": "python",
   "name": "python3"
  },
  "language_info": {
   "codemirror_mode": {
    "name": "ipython",
    "version": 3
   },
   "file_extension": ".py",
   "mimetype": "text/x-python",
   "name": "python",
   "nbconvert_exporter": "python",
   "pygments_lexer": "ipython3",
   "version": "3.5.2"
  }
 },
 "nbformat": 4,
 "nbformat_minor": 0
}
